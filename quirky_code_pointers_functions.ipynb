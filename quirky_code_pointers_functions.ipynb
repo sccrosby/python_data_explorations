{
 "cells": [
  {
   "cell_type": "code",
   "execution_count": 15,
   "metadata": {},
   "outputs": [],
   "source": [
    "import numpy as np\n",
    "import pandas as pd\n",
    "import sys"
   ]
  },
  {
   "cell_type": "code",
   "execution_count": 37,
   "metadata": {},
   "outputs": [
    {
     "name": "stdout",
     "output_type": "stream",
     "text": [
      "False\n",
      "False\n",
      "a = [1, 2, 3], b = 99\n"
     ]
    }
   ],
   "source": [
    "a = [1, 2, 3]\n",
    "b = a[0]\n",
    "print(b is a[1])\n",
    "b = 99\n",
    "print(b is a[1])\n",
    "print('a = {:s}, b = {:s}'.format(str(a),str(b)))"
   ]
  },
  {
   "cell_type": "markdown",
   "metadata": {},
   "source": [
    "Initially b points to the same place in memory as a, but scalers are immutable, so `b=3` results in a new memory allocation because `3` is a scaler"
   ]
  },
  {
   "cell_type": "code",
   "execution_count": 38,
   "metadata": {},
   "outputs": [
    {
     "name": "stdout",
     "output_type": "stream",
     "text": [
      "True\n",
      "True\n",
      "a = [99, 2, 3], b = [99, 2, 3]\n"
     ]
    }
   ],
   "source": [
    "a = [1, 2 ,3]\n",
    "b = a\n",
    "print(b is a)\n",
    "b[0] = 99\n",
    "print(b is a)\n",
    "print('a = {:s}, b = {:s}'.format(str(a),str(b)))"
   ]
  },
  {
   "cell_type": "markdown",
   "metadata": {},
   "source": [
    "lists are mutables, so we can change an item in a list and keep the same space in memory"
   ]
  },
  {
   "cell_type": "code",
   "execution_count": 18,
   "metadata": {},
   "outputs": [
    {
     "name": "stdout",
     "output_type": "stream",
     "text": [
      "140533790496320 140533790496320\n",
      "3\n"
     ]
    }
   ],
   "source": [
    "print(id(b), id(a))\n",
    "print(sys.getrefcount(a))"
   ]
  },
  {
   "cell_type": "markdown",
   "metadata": {},
   "source": [
    "We can check their memory ids and how many references there are. In this case 3, which is a little suprising, maybe it is counting the multiple calls in the prior two cells"
   ]
  },
  {
   "cell_type": "code",
   "execution_count": 39,
   "metadata": {},
   "outputs": [
    {
     "name": "stdout",
     "output_type": "stream",
     "text": [
      "True\n",
      "False\n",
      "a = [1 2 3], b = [2 3 4]\n"
     ]
    }
   ],
   "source": [
    "a = np.array([1, 2, 3])\n",
    "b = a\n",
    "print(b is a)\n",
    "b = b + 1\n",
    "print(b is a)\n",
    "print('a = {:s}, b = {:s}'.format(str(a),str(b)))"
   ]
  },
  {
   "cell_type": "markdown",
   "metadata": {},
   "source": [
    "Performing an operation appears to create a copy, b no longer points to a's spot in memory"
   ]
  },
  {
   "cell_type": "code",
   "execution_count": 43,
   "metadata": {},
   "outputs": [
    {
     "name": "stdout",
     "output_type": "stream",
     "text": [
      "False\n",
      "False\n",
      "a = [99  2  3  4], b = [99  2]\n"
     ]
    }
   ],
   "source": [
    "a = np.array([1, 2, 3, 4])\n",
    "b = a[:2]\n",
    "print(b is a)\n",
    "b[0] = 99\n",
    "print(b is a)\n",
    "print('a = {:s}, b = {:s}'.format(str(a),str(b)))"
   ]
  },
  {
   "cell_type": "markdown",
   "metadata": {},
   "source": [
    "Here b in a sublist, but still points as we'd expect"
   ]
  },
  {
   "cell_type": "code",
   "execution_count": 45,
   "metadata": {},
   "outputs": [
    {
     "name": "stdout",
     "output_type": "stream",
     "text": [
      "a = [1 2 3 4], b = 99\n"
     ]
    }
   ],
   "source": [
    "a = np.array([1, 2, 3, 4])\n",
    "b = a[1]\n",
    "b = 99\n",
    "print('a = {:s}, b = {:s}'.format(str(a),str(b)))"
   ]
  },
  {
   "cell_type": "markdown",
   "metadata": {},
   "source": [
    "Here b is an element of a, a scaler, which is immutable, and therefore a new copy"
   ]
  },
  {
   "cell_type": "code",
   "execution_count": 25,
   "metadata": {},
   "outputs": [
    {
     "name": "stdout",
     "output_type": "stream",
     "text": [
      "[1 2 3 4]\n"
     ]
    }
   ],
   "source": [
    "a = np.array([1, 2, 3, 4])\n",
    "b = np.array([11, 12, 13, 14])\n",
    "c = np.concatenate([a,b])\n",
    "c[0] = 99`\n",
    "print(a)"
   ]
  },
  {
   "cell_type": "code",
   "execution_count": 28,
   "metadata": {},
   "outputs": [
    {
     "name": "stdout",
     "output_type": "stream",
     "text": [
      "[1, 2, 3]\n"
     ]
    }
   ],
   "source": [
    "a = [1, 2, 3]\n",
    "b = [11, 12, 13]\n",
    "c = a + b\n",
    "c[0] = 99\n",
    "print(a)"
   ]
  },
  {
   "cell_type": "code",
   "execution_count": 40,
   "metadata": {},
   "outputs": [
    {
     "name": "stdout",
     "output_type": "stream",
     "text": [
      "[99  2  3]\n"
     ]
    }
   ],
   "source": [
    "a = np.array([1, 2, 3])\n",
    "b = a\n",
    "b[b<2] = 99\n",
    "print(a)"
   ]
  },
  {
   "cell_type": "code",
   "execution_count": 54,
   "metadata": {},
   "outputs": [
    {
     "name": "stdout",
     "output_type": "stream",
     "text": [
      "[ 1.  2.  3. nan]\n"
     ]
    }
   ],
   "source": [
    "a = np.array([1, 2, 3, np.nan])\n",
    "b = a\n",
    "b = b[~np.isnan(b)]\n",
    "print(a)"
   ]
  },
  {
   "cell_type": "code",
   "execution_count": 59,
   "metadata": {},
   "outputs": [
    {
     "name": "stdout",
     "output_type": "stream",
     "text": [
      "   test\n",
      "0   1.0\n",
      "1   2.0\n",
      "2   3.0\n"
     ]
    }
   ],
   "source": [
    "a = pd.DataFrame({'test':[1, 2, 3, np.nan]})\n",
    "b = a\n",
    "b.dropna(inplace=True)\n",
    "print(a)"
   ]
  },
  {
   "cell_type": "code",
   "execution_count": 61,
   "metadata": {},
   "outputs": [
    {
     "name": "stdout",
     "output_type": "stream",
     "text": [
      "   test\n",
      "0   1.0\n",
      "1   2.0\n",
      "2   3.0\n",
      "3   NaN\n"
     ]
    }
   ],
   "source": [
    "a = pd.DataFrame({'test':[1, 2, 3, np.nan]})\n",
    "b = a\n",
    "b = b.dropna()\n",
    "print(a)"
   ]
  },
  {
   "cell_type": "code",
   "execution_count": 60,
   "metadata": {},
   "outputs": [
    {
     "name": "stdout",
     "output_type": "stream",
     "text": [
      "   test\n",
      "0   1.0\n",
      "1   2.0\n",
      "2   3.0\n",
      "3   NaN\n"
     ]
    }
   ],
   "source": [
    "a = pd.DataFrame({'test':[1, 2, 3, np.nan]})\n",
    "b = a\n",
    "b = b[b.notnull()]\n",
    "print(a)"
   ]
  },
  {
   "cell_type": "code",
   "execution_count": null,
   "metadata": {},
   "outputs": [],
   "source": []
  },
  {
   "cell_type": "code",
   "execution_count": 78,
   "metadata": {},
   "outputs": [],
   "source": [
    "df = pd.DataFrame({'test':np.sin(np.arange(0,100,.0001))})\n",
    "df.loc[df['test'] < -0.2] = np.nan"
   ]
  },
  {
   "cell_type": "code",
   "execution_count": 80,
   "metadata": {},
   "outputs": [
    {
     "name": "stdout",
     "output_type": "stream",
     "text": [
      "15.3 ms ± 692 µs per loop (mean ± std. dev. of 7 runs, 100 loops each)\n"
     ]
    }
   ],
   "source": [
    "%%timeit\n",
    "df2 = df.dropna(inplace=False)"
   ]
  },
  {
   "cell_type": "code",
   "execution_count": 81,
   "metadata": {},
   "outputs": [
    {
     "name": "stdout",
     "output_type": "stream",
     "text": [
      "11.6 ms ± 67.5 µs per loop (mean ± std. dev. of 7 runs, 100 loops each)\n"
     ]
    }
   ],
   "source": [
    "%%timeit\n",
    "df.dropna(inplace=True)"
   ]
  },
  {
   "cell_type": "code",
   "execution_count": null,
   "metadata": {},
   "outputs": [],
   "source": []
  },
  {
   "cell_type": "code",
   "execution_count": null,
   "metadata": {},
   "outputs": [],
   "source": []
  },
  {
   "cell_type": "code",
   "execution_count": null,
   "metadata": {},
   "outputs": [],
   "source": []
  },
  {
   "cell_type": "code",
   "execution_count": 9,
   "metadata": {},
   "outputs": [
    {
     "name": "stdout",
     "output_type": "stream",
     "text": [
      "[ 1 99  3  4]\n"
     ]
    }
   ],
   "source": [
    "def replace_element(array, index, new_element):\n",
    "    array[index] = new_element\n",
    "    return array\n",
    "\n",
    "a = np.array([1, 2, 3, 4])\n",
    "b = a\n",
    "c = replace_element(b, 1, 99)\n",
    "print(a)"
   ]
  },
  {
   "cell_type": "code",
   "execution_count": 13,
   "metadata": {},
   "outputs": [
    {
     "name": "stdout",
     "output_type": "stream",
     "text": [
      "[1 2 6 4]\n"
     ]
    }
   ],
   "source": [
    "def replace_element(array, index, new_element):\n",
    "    array[2] = array[2]*2\n",
    "    return array\n",
    "\n",
    "a = np.array([1, 2, 3, 4])\n",
    "b = a\n",
    "c = replace_element(b, 1, 99)\n",
    "print(a)"
   ]
  },
  {
   "cell_type": "code",
   "execution_count": 14,
   "metadata": {},
   "outputs": [
    {
     "name": "stdout",
     "output_type": "stream",
     "text": [
      "[1 2 3 4]\n"
     ]
    }
   ],
   "source": [
    "def replace_element(array, index, new_element):\n",
    "    array = array*2\n",
    "    return array\n",
    "\n",
    "a = np.array([1, 2, 3, 4])\n",
    "b = a\n",
    "c = replace_element(b, 1, 99)\n",
    "print(a)"
   ]
  },
  {
   "cell_type": "code",
   "execution_count": 11,
   "metadata": {},
   "outputs": [
    {
     "name": "stdout",
     "output_type": "stream",
     "text": [
      "[1 2 3 4]\n"
     ]
    }
   ],
   "source": [
    "def replace_element(array, index, new_element):\n",
    "    array = [9,9,9,9]\n",
    "    return array\n",
    "\n",
    "a = np.array([1, 2, 3, 4])\n",
    "b = a\n",
    "c = replace_element(b, 1, 99)\n",
    "print(a)"
   ]
  }
 ],
 "metadata": {
  "kernelspec": {
   "display_name": "Python 3",
   "language": "python",
   "name": "python3"
  },
  "language_info": {
   "codemirror_mode": {
    "name": "ipython",
    "version": 3
   },
   "file_extension": ".py",
   "mimetype": "text/x-python",
   "name": "python",
   "nbconvert_exporter": "python",
   "pygments_lexer": "ipython3",
   "version": "3.7.10"
  }
 },
 "nbformat": 4,
 "nbformat_minor": 5
}
