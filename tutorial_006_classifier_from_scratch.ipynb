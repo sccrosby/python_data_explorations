{
 "cells": [
  {
   "cell_type": "markdown",
   "metadata": {},
   "source": [
    "## Making a multi-class classifier from scratch* using batch gradient descent\n",
    "*without Scikit-Learn"
   ]
  },
  {
   "cell_type": "markdown",
   "metadata": {},
   "source": [
    "Here we will construct a softmax classifier from scratch (using numpy of course). In a nut-shell, the idea is we construct a logistic regression for each of the class types (here, flower types). These regression predict a score for each class. We then convert this score to a probability and pick the most probable type. There is no analytical solution, however, the parameter space is guarenteed to be convex, and therefore with an appropriate learning rate we should be able to converge on the solution with gradient descent. "
   ]
  },
  {
   "cell_type": "code",
   "execution_count": 2,
   "metadata": {},
   "outputs": [
    {
     "data": {
      "text/plain": [
       "dict_keys(['data', 'target', 'frame', 'target_names', 'DESCR', 'feature_names', 'filename'])"
      ]
     },
     "execution_count": 2,
     "metadata": {},
     "output_type": "execute_result"
    }
   ],
   "source": [
    "from sklearn import datasets\n",
    "iris = datasets.load_iris()\n",
    "iris.keys()"
   ]
  },
  {
   "cell_type": "code",
   "execution_count": 3,
   "metadata": {},
   "outputs": [
    {
     "data": {
      "text/plain": [
       "array(['setosa', 'versicolor', 'virginica'], dtype='<U10')"
      ]
     },
     "execution_count": 3,
     "metadata": {},
     "output_type": "execute_result"
    }
   ],
   "source": [
    "# Types of flowers\n",
    "iris.target_names"
   ]
  },
  {
   "cell_type": "code",
   "execution_count": 4,
   "metadata": {},
   "outputs": [
    {
     "data": {
      "text/plain": [
       "['sepal length (cm)',\n",
       " 'sepal width (cm)',\n",
       " 'petal length (cm)',\n",
       " 'petal width (cm)']"
      ]
     },
     "execution_count": 4,
     "metadata": {},
     "output_type": "execute_result"
    }
   ],
   "source": [
    "# Flower features\n",
    "iris.feature_names"
   ]
  },
  {
   "cell_type": "code",
   "execution_count": 36,
   "metadata": {},
   "outputs": [
    {
     "data": {
      "image/png": "[encoded data removed]",
      "text/plain": [
       "<Figure size 432x288 with 1 Axes>"
      ]
     },
     "metadata": {
      "needs_background": "light"
     },
     "output_type": "display_data"
    }
   ],
   "source": [
    "# Softmax Classifier with batch solver and early stopping without scikit-learn\n",
    "\n",
    "# Dimensions\n",
    "# i - instance (data)\n",
    "# m - number of instances\n",
    "# n - number of labels (e.g. 4 here)\n",
    "# k - number of classes (e.g. 3 here)\n",
    "\n",
    "# Linear Model: y = softmax( sigmoid( theta*x ) )\n",
    "\n",
    "# Input/Outputs\n",
    "# X - instances/data (n, m)\n",
    "# y - labels (m, 1)\n",
    "# theta - linear model for each class, (k, n)\n",
    "# s - scores, (k, m)\n",
    "# p - normalized probabiilty, (k, m)\n",
    "# yh - predicted class, (m, 1)\n",
    "# J - cost fxn, scalar\n",
    "# dJ - gradient, (1, n)\n",
    "\n",
    "epsilon = 1e-7\n",
    "\n",
    "# Calcualtes the score for one class with it's model theta\n",
    "def score(theta,x):\n",
    "    s = np.dot(theta,x)\n",
    "    return s\n",
    "\n",
    "# Calculates probability, normalized across classes\n",
    "def softmax_fxn(s):\n",
    "    p = np.exp(s) / np.sum(np.exp(s), axis = 0)\n",
    "    return p\n",
    "\n",
    "# Picks the highest score\n",
    "def softmax_classifier(p):\n",
    "    yh = np.argmax(p,axis=0)\n",
    "    return yh\n",
    "\n",
    "# Calculates cost fxn\n",
    "def cost_fxn(y,p):\n",
    "    m = y.shape[0]\n",
    "    #y = np.expand_dims(y,axis=1)\n",
    "    J = -np.sum(y * np.log(p.transpose()+epsilon))/m\n",
    "    return J\n",
    "\n",
    "# Calculates the gradient of the cross entropy cost function\n",
    "def cross_entropy_grad(p,y,X):\n",
    "    pdy = (p - y.transpose())\n",
    "    dJ = np.dot(pdy, X.transpose())\n",
    "    return dJ\n",
    "\n",
    "import numpy as np\n",
    "import matplotlib.pyplot as plt\n",
    "from sklearn import datasets\n",
    "iris = datasets.load_iris()\n",
    "\n",
    "# Load data\n",
    "y1 = np.expand_dims((iris['target'] == 0).astype(np.int),axis=1)\n",
    "y2 = np.expand_dims((iris['target'] == 1).astype(np.int),axis=1)\n",
    "y3 = np.expand_dims((iris['target'] == 2).astype(np.int),axis=1)\n",
    "y = np.concatenate((y1, y2, y3), axis = 1)\n",
    "yp = iris['target']\n",
    "X = iris.data.transpose()\n",
    "\n",
    "# Learning rate\n",
    "lr = .0001\n",
    "\n",
    "# Max iterations\n",
    "max_iter = 50000\n",
    "\n",
    "# Tolerance, if percent change in cost fxn less than tol then stop early, 1e-4 appears a good value\n",
    "tol = 1e-5\n",
    "\n",
    "# Initialize\n",
    "theta = np.ones((3,4)) # Simple model all ones\n",
    "sJ = np.empty(max_iter) # Store cost fxn value for plotting later\n",
    "sJ[:] = np.nan\n",
    "dJde = 100 # Percent change in cost fxn\n",
    "n = 0 # Counter\n",
    "\n",
    "while (dJde > tol) | (n < 100):\n",
    "    s = score(theta,X) # Calc Scores\n",
    "    p = softmax_fxn(s) # Calc Probabilities    \n",
    "    dJ = cross_entropy_grad(p,y,X) # Calc Gradient\n",
    "    theta = theta - lr*dJ # Update model\n",
    "    J = cost_fxn(y,p)  # Calc Cost fxn  \n",
    "    sJ[n] = J  # Store \n",
    "    \n",
    "    if n > 1: # How fast are we converging?\n",
    "        dJde = abs(sJ[n-1] - sJ[n]) / sJ[n-1]\n",
    "\n",
    "    if n >= (max_iter-1): # If too many iterations break\n",
    "        print('Reached maximum interations')\n",
    "        break\n",
    "        \n",
    "    n = n + 1  # Count\n",
    "    \n",
    "# Convert probabilities to classifications   \n",
    "yh = softmax_classifier(p) \n",
    "\n",
    "plt.plot(sJ)\n",
    "plt.ylabel('Cross Entropy Cost Function')\n",
    "plt.xlabel('Epoch')\n",
    "plt.grid()\n",
    "plt.title('Gradient Descent, LR = {:1.1e}'.format(lr))\n",
    "plt.yscale('log')\n",
    "plt.show()"
   ]
  },
  {
   "cell_type": "markdown",
   "metadata": {},
   "source": [
    "Interesting that at a relatively fast learning rate, there is some significant up/down in the cost function. At a lower learning rate we will converge more consistently (stabily), but typically slower. "
   ]
  },
  {
   "cell_type": "code",
   "execution_count": 13,
   "metadata": {},
   "outputs": [
    {
     "name": "stdout",
     "output_type": "stream",
     "text": [
      "[[0 0]\n",
      " [0 0]\n",
      " [0 0]\n",
      " [0 0]\n",
      " [0 0]\n",
      " [0 0]\n",
      " [0 0]\n",
      " [0 0]\n",
      " [0 0]\n",
      " [0 0]\n",
      " [0 0]\n",
      " [0 0]\n",
      " [0 0]\n",
      " [0 0]\n",
      " [0 0]\n",
      " [0 0]\n",
      " [0 0]\n",
      " [0 0]\n",
      " [0 0]\n",
      " [0 0]\n",
      " [0 0]\n",
      " [0 0]\n",
      " [0 0]\n",
      " [0 0]\n",
      " [0 0]\n",
      " [0 0]\n",
      " [0 0]\n",
      " [0 0]\n",
      " [0 0]\n",
      " [0 0]\n",
      " [0 0]\n",
      " [0 0]\n",
      " [0 0]\n",
      " [0 0]\n",
      " [0 0]\n",
      " [0 0]\n",
      " [0 0]\n",
      " [0 0]\n",
      " [0 0]\n",
      " [0 0]\n",
      " [0 0]\n",
      " [0 0]\n",
      " [0 0]\n",
      " [0 0]\n",
      " [0 0]\n",
      " [0 0]\n",
      " [0 0]\n",
      " [0 0]\n",
      " [0 0]\n",
      " [0 0]\n",
      " [1 1]\n",
      " [1 1]\n",
      " [1 1]\n",
      " [1 1]\n",
      " [1 1]\n",
      " [1 1]\n",
      " [1 1]\n",
      " [1 1]\n",
      " [1 1]\n",
      " [1 1]\n",
      " [1 1]\n",
      " [1 1]\n",
      " [1 1]\n",
      " [1 1]\n",
      " [1 1]\n",
      " [1 1]\n",
      " [1 1]\n",
      " [1 1]\n",
      " [1 1]\n",
      " [1 1]\n",
      " [2 1]\n",
      " [1 1]\n",
      " [2 1]\n",
      " [1 1]\n",
      " [1 1]\n",
      " [1 1]\n",
      " [1 1]\n",
      " [1 1]\n",
      " [1 1]\n",
      " [1 1]\n",
      " [1 1]\n",
      " [1 1]\n",
      " [1 1]\n",
      " [2 1]\n",
      " [1 1]\n",
      " [1 1]\n",
      " [1 1]\n",
      " [1 1]\n",
      " [1 1]\n",
      " [1 1]\n",
      " [1 1]\n",
      " [1 1]\n",
      " [1 1]\n",
      " [1 1]\n",
      " [1 1]\n",
      " [1 1]\n",
      " [1 1]\n",
      " [1 1]\n",
      " [1 1]\n",
      " [1 1]\n",
      " [2 2]\n",
      " [2 2]\n",
      " [2 2]\n",
      " [2 2]\n",
      " [2 2]\n",
      " [2 2]\n",
      " [2 2]\n",
      " [2 2]\n",
      " [2 2]\n",
      " [2 2]\n",
      " [2 2]\n",
      " [2 2]\n",
      " [2 2]\n",
      " [2 2]\n",
      " [2 2]\n",
      " [2 2]\n",
      " [2 2]\n",
      " [2 2]\n",
      " [2 2]\n",
      " [2 2]\n",
      " [2 2]\n",
      " [2 2]\n",
      " [2 2]\n",
      " [2 2]\n",
      " [2 2]\n",
      " [2 2]\n",
      " [2 2]\n",
      " [2 2]\n",
      " [2 2]\n",
      " [1 2]\n",
      " [2 2]\n",
      " [1 2]\n",
      " [2 2]\n",
      " [2 2]\n",
      " [2 2]\n",
      " [2 2]\n",
      " [2 2]\n",
      " [2 2]\n",
      " [2 2]\n",
      " [2 2]\n",
      " [2 2]\n",
      " [2 2]\n",
      " [2 2]\n",
      " [2 2]\n",
      " [2 2]\n",
      " [2 2]\n",
      " [2 2]\n",
      " [2 2]\n",
      " [2 2]\n",
      " [2 2]]\n"
     ]
    }
   ],
   "source": [
    "# Compare predictions and observations\n",
    "Y = np.concatenate((np.expand_dims(yh,axis=1),np.expand_dims(yp,axis=1)),axis=1)\n",
    "print(Y)"
   ]
  },
  {
   "cell_type": "code",
   "execution_count": 16,
   "metadata": {},
   "outputs": [
    {
     "name": "stdout",
     "output_type": "stream",
     "text": [
      "145 are correct, 5 are incorrect\n"
     ]
    }
   ],
   "source": [
    "# How many correct/incorrect\n",
    "y_correct = np.sum(yp==yh)\n",
    "y_wrong = len(yp)-y_correct\n",
    "print('{:d} are correct, {:d} are incorrect'.format(y_correct,y_wrong))"
   ]
  },
  {
   "cell_type": "markdown",
   "metadata": {},
   "source": [
    "I'll note that I did not create a test or validation set to see if we are overfitting because the exercise was mainly to develop the minimization algorigthm, and the dataset was small, just 150 instances."
   ]
  },
  {
   "cell_type": "code",
   "execution_count": 17,
   "metadata": {},
   "outputs": [
    {
     "data": {
      "text/plain": [
       "array([[ 2.3805055 ,  3.98772036, -2.97243922, -0.88948278],\n",
       "       [ 2.12642145,  1.17797527,  0.6774727 , -0.97314221],\n",
       "       [-1.50692695, -2.16569564,  5.29496652,  4.86262499]])"
      ]
     },
     "execution_count": 17,
     "metadata": {},
     "output_type": "execute_result"
    }
   ],
   "source": [
    "# Let's look at our model\n",
    "theta"
   ]
  },
  {
   "cell_type": "code",
   "execution_count": 31,
   "metadata": {},
   "outputs": [
    {
     "name": "stdout",
     "output_type": "stream",
     "text": [
      "[[0 0 0]\n",
      " [0 0 0]\n",
      " [0 0 0]\n",
      " [0 0 0]\n",
      " [0 0 0]\n",
      " [0 0 0]\n",
      " [0 0 0]\n",
      " [0 0 0]\n",
      " [0 0 0]\n",
      " [0 0 0]\n",
      " [0 0 0]\n",
      " [0 0 0]\n",
      " [0 0 0]\n",
      " [0 0 0]\n",
      " [0 0 0]\n",
      " [0 0 0]\n",
      " [0 0 0]\n",
      " [0 0 0]\n",
      " [0 0 0]\n",
      " [0 0 0]\n",
      " [0 0 0]\n",
      " [0 0 0]\n",
      " [0 0 0]\n",
      " [0 0 0]\n",
      " [0 0 0]\n",
      " [0 0 0]\n",
      " [0 0 0]\n",
      " [0 0 0]\n",
      " [0 0 0]\n",
      " [0 0 0]\n",
      " [0 0 0]\n",
      " [0 0 0]\n",
      " [0 0 0]\n",
      " [0 0 0]\n",
      " [0 0 0]\n",
      " [0 0 0]\n",
      " [0 0 0]\n",
      " [0 0 0]\n",
      " [0 0 0]\n",
      " [0 0 0]\n",
      " [0 0 0]\n",
      " [0 0 0]\n",
      " [0 0 0]\n",
      " [0 0 0]\n",
      " [0 0 0]\n",
      " [0 0 0]\n",
      " [0 0 0]\n",
      " [0 0 0]\n",
      " [0 0 0]\n",
      " [0 0 0]\n",
      " [1 1 1]\n",
      " [1 1 1]\n",
      " [1 1 1]\n",
      " [1 1 1]\n",
      " [1 1 1]\n",
      " [1 1 1]\n",
      " [1 1 1]\n",
      " [1 1 1]\n",
      " [1 1 1]\n",
      " [1 1 1]\n",
      " [1 1 1]\n",
      " [1 1 1]\n",
      " [1 1 1]\n",
      " [1 1 1]\n",
      " [1 1 1]\n",
      " [1 1 1]\n",
      " [1 1 1]\n",
      " [1 1 1]\n",
      " [1 1 1]\n",
      " [1 1 1]\n",
      " [2 1 2]\n",
      " [1 1 1]\n",
      " [2 1 1]\n",
      " [1 1 1]\n",
      " [1 1 1]\n",
      " [1 1 1]\n",
      " [1 1 1]\n",
      " [1 1 1]\n",
      " [1 1 1]\n",
      " [1 1 1]\n",
      " [1 1 1]\n",
      " [1 1 1]\n",
      " [1 1 1]\n",
      " [2 1 2]\n",
      " [1 1 1]\n",
      " [1 1 1]\n",
      " [1 1 1]\n",
      " [1 1 1]\n",
      " [1 1 1]\n",
      " [1 1 1]\n",
      " [1 1 1]\n",
      " [1 1 1]\n",
      " [1 1 1]\n",
      " [1 1 1]\n",
      " [1 1 1]\n",
      " [1 1 1]\n",
      " [1 1 1]\n",
      " [1 1 1]\n",
      " [1 1 1]\n",
      " [1 1 1]\n",
      " [2 2 2]\n",
      " [2 2 2]\n",
      " [2 2 2]\n",
      " [2 2 2]\n",
      " [2 2 2]\n",
      " [2 2 2]\n",
      " [2 2 2]\n",
      " [2 2 2]\n",
      " [2 2 2]\n",
      " [2 2 2]\n",
      " [2 2 2]\n",
      " [2 2 2]\n",
      " [2 2 2]\n",
      " [2 2 2]\n",
      " [2 2 2]\n",
      " [2 2 2]\n",
      " [2 2 2]\n",
      " [2 2 2]\n",
      " [2 2 2]\n",
      " [2 2 2]\n",
      " [2 2 2]\n",
      " [2 2 2]\n",
      " [2 2 2]\n",
      " [2 2 2]\n",
      " [2 2 2]\n",
      " [2 2 2]\n",
      " [2 2 2]\n",
      " [2 2 2]\n",
      " [2 2 2]\n",
      " [1 2 2]\n",
      " [2 2 2]\n",
      " [1 2 2]\n",
      " [2 2 2]\n",
      " [2 2 1]\n",
      " [2 2 2]\n",
      " [2 2 2]\n",
      " [2 2 2]\n",
      " [2 2 2]\n",
      " [2 2 2]\n",
      " [2 2 2]\n",
      " [2 2 2]\n",
      " [2 2 2]\n",
      " [2 2 2]\n",
      " [2 2 2]\n",
      " [2 2 2]\n",
      " [2 2 2]\n",
      " [2 2 2]\n",
      " [2 2 2]\n",
      " [2 2 2]\n",
      " [2 2 2]]\n"
     ]
    }
   ],
   "source": [
    "# Let's compare to scikit's version\n",
    "X = iris['data']\n",
    "y = iris['target']\n",
    "\n",
    "from sklearn.linear_model import LogisticRegression\n",
    "softmax_reg = LogisticRegression(multi_class=\"multinomial\",solver=\"lbfgs\",C=10,max_iter=1000)\n",
    "softmax_reg.fit(X,y)\n",
    "yps = softmax_reg.predict(X)\n",
    "Y = np.concatenate((np.expand_dims(yh,axis=1),np.expand_dims(yp,axis=1),np.expand_dims(yps,axis=1)),axis=1)\n",
    "print(Y)"
   ]
  },
  {
   "cell_type": "code",
   "execution_count": 32,
   "metadata": {},
   "outputs": [
    {
     "data": {
      "text/plain": [
       "array([[-0.38743634,  2.03198295, -4.28122671, -2.05974991],\n",
       "       [ 1.03757883, -0.04002036, -0.46855926, -2.28401404],\n",
       "       [-0.65014249, -1.99196259,  4.74978597,  4.34376395]])"
      ]
     },
     "execution_count": 32,
     "metadata": {},
     "output_type": "execute_result"
    }
   ],
   "source": [
    "softmax_reg.coef_"
   ]
  },
  {
   "cell_type": "code",
   "execution_count": 33,
   "metadata": {},
   "outputs": [
    {
     "name": "stdout",
     "output_type": "stream",
     "text": [
      "146 are correct, 4 are incorrect\n"
     ]
    }
   ],
   "source": [
    "y_correct = np.sum(yps==yh)\n",
    "y_wrong = len(yp)-y_correct\n",
    "print('{:d} are correct, {:d} are incorrect'.format(y_correct,y_wrong))"
   ]
  },
  {
   "cell_type": "code",
   "execution_count": null,
   "metadata": {},
   "outputs": [],
   "source": []
  }
 ],
 "metadata": {
  "kernelspec": {
   "display_name": "Python 3",
   "language": "python",
   "name": "python3"
  },
  "language_info": {
   "codemirror_mode": {
    "name": "ipython",
    "version": 3
   },
   "file_extension": ".py",
   "mimetype": "text/x-python",
   "name": "python",
   "nbconvert_exporter": "python",
   "pygments_lexer": "ipython3",
   "version": "3.8.3"
  }
 },
 "nbformat": 4,
 "nbformat_minor": 4
}
