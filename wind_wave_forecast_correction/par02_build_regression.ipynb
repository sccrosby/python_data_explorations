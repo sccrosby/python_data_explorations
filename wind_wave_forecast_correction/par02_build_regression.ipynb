{
 "cells": [
  {
   "cell_type": "code",
   "execution_count": 3,
   "metadata": {},
   "outputs": [],
   "source": [
    "import numpy as np\n",
    "from sklearn.linear_model import LinearRegression\n",
    "from sklearn.metrics import r2_score\n",
    "from sklearn.model_selection import train_test_split\n",
    "from sklearn.base import BaseEstimator, TransformerMixin"
   ]
  },
  {
   "cell_type": "code",
   "execution_count": 23,
   "metadata": {},
   "outputs": [
    {
     "name": "stdout",
     "output_type": "stream",
     "text": [
      "1.073423912141214 1.256025449752339\n"
     ]
    }
   ],
   "source": [
    "### Set path to save data folder\n",
    "fol = '../../offline_data/mlwwcoast_prep_data'\n",
    "\n",
    "# Select buoy\n",
    "bb = 3\n",
    "\n",
    "# Select with variable to predict\n",
    "myvar = 'u' \n",
    "\n",
    "# Data load parameters\n",
    "back = 24 # Select how many hours to go back in time\n",
    "forward = 24 # Select forecast hour to predict\n",
    "\n",
    "# Select file\n",
    "fload = '{:s}/input_{:s}_buoy{:d}_back{:d}_for{:d}.npz'.format(fol,myvar,bb,back,forward)\n",
    "D = np.load(fload)\n",
    "\n",
    "# Keys in D\n",
    "# X -> History Matrix (time,hr-back) where hr-back = 0,1,2,...\n",
    "# Y -> Labels, (time,hr-forward) where hr_forward = 1,2,3... (pred we are trying to make)\n",
    "# F -> Weather Forecast, (time,hr-forward)\n",
    "# t -> time (time,)\n",
    "# avg -> daily average, smoothed (time,1)\n",
    "\n",
    "# Regression Settings\n",
    "hr_for = 3\n",
    "hr_back = 23\n",
    "\n",
    "# Make input\n",
    "X = D['X'][:,1:hr_back]\n",
    "f = D['F'][:,hr_for]\n",
    "f = np.expand_dims(f,1)\n",
    "X = np.concatenate((X,D['avg']),axis=1)\n",
    "X = np.concatenate((X,f),axis=1)\n",
    "\n",
    "# Make labels\n",
    "y = D['Y'][:,hr_for]\n",
    "\n",
    "# Train/Test Set\n",
    "x_tr, x_te, y_tr, y_te = train_test_split(X, y, test_size = 0.25, random_state = 42)\n",
    "\n",
    "# Creating an object of LinearRegression class\n",
    "LR = LinearRegression()\n",
    "\n",
    "# fitting the training data\n",
    "LR.fit(x_tr,y_tr)\n",
    "\n",
    "# Make predictions\n",
    "y_p = np.squeeze(LR.predict(x_te))\n",
    "y = np.squeeze(y_te)\n",
    "\n",
    "# Evaluate error\n",
    "r2 = r2_score(y.T,y_p)\n",
    "mae = np.mean(np.abs(y.T-y_p))\n",
    "mae_baseline = np.mean(np.abs(np.squeeze(f)-D['Y'][:,hr_for]))\n",
    "\n",
    "print(mae,mae_baseline)"
   ]
  },
  {
   "cell_type": "markdown",
   "metadata": {},
   "source": [
    "    Custom Transformer"
   ]
  },
  {
   "cell_type": "code",
   "execution_count": 24,
   "metadata": {},
   "outputs": [],
   "source": [
    "class SelectHours(BaseEstimator, TransformerMixin):\n",
    "    def __init__(self, hr_back=24):        \n",
    "        self.hr_back = hr_back\n",
    "    def fit(self, X, y=None):\n",
    "        return self\n",
    "    def transform(self,X):\n",
    "        return X[:,hr_back-1]\n",
    "        "
   ]
  },
  {
   "cell_type": "code",
   "execution_count": 30,
   "metadata": {},
   "outputs": [],
   "source": [
    "from sklearn.pipeline import Pipeline\n",
    "from sklearn.preprocessing import StandardScaler\n",
    "\n",
    "my_pipeline = Pipeline([\n",
    "    ('selecthours',SelectHours()),\n",
    "    #('std_scaler',StandardScaler()),\n",
    "])\n",
    "\n",
    "X_prepared = my_pipeline.fit_transform(X)"
   ]
  },
  {
   "cell_type": "code",
   "execution_count": null,
   "metadata": {},
   "outputs": [],
   "source": []
  }
 ],
 "metadata": {
  "kernelspec": {
   "display_name": "Python 3",
   "language": "python",
   "name": "python3"
  },
  "language_info": {
   "codemirror_mode": {
    "name": "ipython",
    "version": 3
   },
   "file_extension": ".py",
   "mimetype": "text/x-python",
   "name": "python",
   "nbconvert_exporter": "python",
   "pygments_lexer": "ipython3",
   "version": "3.8.3"
  }
 },
 "nbformat": 4,
 "nbformat_minor": 4
}
