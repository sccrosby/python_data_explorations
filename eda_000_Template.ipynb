{
 "cells": [
  {
   "cell_type": "markdown",
   "id": "6be38a05",
   "metadata": {},
   "source": [
    "## Load data"
   ]
  },
  {
   "cell_type": "code",
   "execution_count": null,
   "id": "e3750704",
   "metadata": {},
   "outputs": [],
   "source": [
    "pd.read_csv() "
   ]
  },
  {
   "cell_type": "markdown",
   "id": "24cbc091",
   "metadata": {},
   "source": [
    "## Peak at data\n",
    "- missing data?\n",
    "- obvious outliers?\n",
    "- linear or non-linear correlations?\n",
    "- strong correlation between depedent terms? (drop one? combine the two?)\n",
    "- consider PCA, or other dimensionality reduction?"
   ]
  },
  {
   "cell_type": "code",
   "execution_count": null,
   "id": "4ee26987",
   "metadata": {},
   "outputs": [],
   "source": [
    "df.hist( figsize=(10,10) )  # will make matrix of histograms for all numeric variables\n",
    "pd.plotting.scatter_matrix( figsize=(10,10) )   # will make matrix of scatter plots with hist down the diagonal\n",
    "df.describe()\n",
    "df.corr() \n",
    "df.var.value_counts() # will tabulate categorical variables\n",
    "for key in df.keys(): # will count up null values in each column\n",
    "    print(key,sum(df[key].isnull()))"
   ]
  },
  {
   "cell_type": "markdown",
   "id": "13ea90ba",
   "metadata": {},
   "source": [
    "## Clearn by drop/replace null values or outliers"
   ]
  },
  {
   "cell_type": "code",
   "execution_count": null,
   "id": "af7763a7",
   "metadata": {},
   "outputs": [],
   "source": [
    "df.dropna(subset=['var'])  # rows with var as nan\n",
    "df.dropna()   # all rows with any nan\n",
    "df.drop('var', axis=1) # Drop column\n",
    "df['var'].fillna(median, inplace=True) # Fill nan with median, mean, etc\n",
    "\n",
    "# from sklearn.impute import SimpleImputer\n",
    "imputer = SimpleImputer(strategy='median') # ONLY works on numerical data\n",
    "X = imputer.fit_transform(df)\n",
    "df = pd.Datafram(X, columns=df.columns, index=df.index) # Transform from numpy matrix to dataframe"
   ]
  },
  {
   "cell_type": "markdown",
   "id": "204ceccb",
   "metadata": {},
   "source": [
    "## Categorical one-hot"
   ]
  },
  {
   "cell_type": "code",
   "execution_count": null,
   "id": "3adbcba9",
   "metadata": {},
   "outputs": [],
   "source": [
    "# Note that this creates sparse matrix\n",
    "from sklearn.preprocessing import OneHotEncoder\n",
    "cat_encoder = OneHotEncoder()\n",
    "df_1hot = cat_encoder.fit_transform(df_cat)"
   ]
  },
  {
   "cell_type": "markdown",
   "id": "f9e205b8",
   "metadata": {},
   "source": [
    "## Transformation pipeline"
   ]
  },
  {
   "cell_type": "code",
   "execution_count": null,
   "id": "d952380c",
   "metadata": {},
   "outputs": [],
   "source": [
    "from sklearn.impute import SimpleImputer\n",
    "from sklearn.preprocessing import OneHotEncoder\n",
    "from sklearn.preprocessing import StandardScaler\n",
    "from sklearn.pipeline import Pipeline\n",
    "from sklearn.compose import ColumnTransformer\n",
    "\n",
    "num_pipeline = Pipeline([\n",
    "    ('imputer', SimpleImputer(strategy='median')),\n",
    "    ('std_scaler', StandardScaler()),\n",
    "])\n",
    "\n",
    "cat_pipeline = Pipeline([\n",
    "    ('one_hot', OneHotEncoder()),\n",
    "])\n",
    "\n",
    "preprocessor = ColumnTransformer([\n",
    "    ('num', num_pipeline, num_attribs),\n",
    "    ('cat', cat_pipeline, cat_attribs),\n",
    "])\n",
    "\n",
    "X_prepared = preprocessor.fit_transform(X)"
   ]
  },
  {
   "cell_type": "markdown",
   "id": "698322e2",
   "metadata": {},
   "source": [
    "## Train, dev, test split"
   ]
  },
  {
   "cell_type": "code",
   "execution_count": null,
   "id": "c1176f72",
   "metadata": {},
   "outputs": [],
   "source": [
    "from sklearn.model_selection import train_test_split\n",
    "X_train, X_test, y_train, y_test = train_test_split(X, y, test_size=0.2, random_state=42)\n",
    "X_train, X_dev, y_train, y_dev = train_test_split(X_train, y_train, test_size=0.2, random_state=42)"
   ]
  },
  {
   "cell_type": "markdown",
   "id": "3f5c8f49",
   "metadata": {},
   "source": [
    "## Setup model pipeline and test"
   ]
  },
  {
   "cell_type": "code",
   "execution_count": null,
   "id": "086e7c32",
   "metadata": {},
   "outputs": [],
   "source": [
    "from sklearn.linear_model import LinearRegression\n",
    "from sklearn.model_selection import train_test_split\n",
    "\n",
    "clf = Pipeline(\n",
    "    steps=[('preprocessor',preprocessor),('classifier', LinearRegression())]\n",
    ")\n",
    "\n",
    "clf.fit(X_train, y_train)\n",
    "print('model score: {:4.2f}'.format(clf.score(X_dev, y_dev)))"
   ]
  },
  {
   "cell_type": "code",
   "execution_count": null,
   "id": "56714764",
   "metadata": {},
   "outputs": [],
   "source": [
    "# Visualize pipeline\n",
    "from sklearn import set_config\n",
    "\n",
    "set_config(display=\"diagram\")\n",
    "clf"
   ]
  },
  {
   "cell_type": "markdown",
   "id": "9e00c076",
   "metadata": {},
   "source": [
    "## Cross validation"
   ]
  },
  {
   "cell_type": "code",
   "execution_count": null,
   "id": "e09deeca",
   "metadata": {},
   "outputs": [],
   "source": [
    "from sklearn.model_selection import cross_val_score\n",
    "cross_val_score(clf, X_train, y_train, cv=5, scoring=\"accuracy\")"
   ]
  },
  {
   "cell_type": "markdown",
   "id": "6134ff9b",
   "metadata": {},
   "source": [
    "## Hyper-parameter grid search"
   ]
  },
  {
   "cell_type": "code",
   "execution_count": null,
   "id": "64975afe",
   "metadata": {},
   "outputs": [],
   "source": [
    "from sklearn.model_selection import GridSearchCV\n",
    "\n",
    "param_grid = [\n",
    "    {'classifier__C':[0.1, 1, 10]},\n",
    "    {'classifier__penalty':['l2','l1']},\n",
    "]\n",
    "\n",
    "grid_search = GridSearchCV(clf, param_grid, cv=5, scoring='accuracy', return_train_score=True)"
   ]
  },
  {
   "cell_type": "markdown",
   "id": "d1d77c26",
   "metadata": {},
   "source": [
    "## Logisitic Regression"
   ]
  },
  {
   "cell_type": "code",
   "execution_count": null,
   "id": "c84b42bf",
   "metadata": {},
   "outputs": [],
   "source": []
  }
 ],
 "metadata": {
  "kernelspec": {
   "display_name": "Python 3",
   "language": "python",
   "name": "python3"
  },
  "language_info": {
   "codemirror_mode": {
    "name": "ipython",
    "version": 3
   },
   "file_extension": ".py",
   "mimetype": "text/x-python",
   "name": "python",
   "nbconvert_exporter": "python",
   "pygments_lexer": "ipython3",
   "version": "3.8.8"
  }
 },
 "nbformat": 4,
 "nbformat_minor": 5
}
