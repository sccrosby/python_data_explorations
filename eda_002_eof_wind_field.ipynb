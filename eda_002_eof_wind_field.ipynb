{
 "cells": [
  {
   "cell_type": "markdown",
   "metadata": {},
   "source": [
    "### Complex EOF application to wind vectors over Salish Sea in Washington\n",
    "S. C. Crosby"
   ]
  },
  {
   "cell_type": "code",
   "execution_count": 1,
   "metadata": {},
   "outputs": [],
   "source": [
    "import pandas as pd\n",
    "import numpy as np\n",
    "import matplotlib.pyplot as plt\n",
    "from datetime import datetime,timedelta\n",
    "from scipy import io\n",
    "import mplleaflet"
   ]
  },
  {
   "cell_type": "code",
   "execution_count": 2,
   "metadata": {},
   "outputs": [
    {
     "data": {
      "text/plain": [
       "dict_keys(['__header__', '__version__', '__globals__', 'lat_m', 'lon_m', 'slp', 'windu', 'windv'])"
      ]
     },
     "execution_count": 2,
     "metadata": {},
     "output_type": "execute_result"
    }
   ],
   "source": [
    "fname = '../offline_data/SalishSea_NNRP_Grid.mat'\n",
    "data = io.loadmat(fname)\n",
    "data.keys()"
   ]
  },
  {
   "cell_type": "code",
   "execution_count": 48,
   "metadata": {},
   "outputs": [
    {
     "data": {
      "text/plain": [
       "numpy.ndarray"
      ]
     },
     "execution_count": 48,
     "metadata": {},
     "output_type": "execute_result"
    }
   ],
   "source": [
    "lat = data['lat_m'][40:71,70:111]\n",
    "lon = data['lon_m'][40:71,70:111]\n",
    "\n",
    "u = data['windu']\n",
    "v = data['windv']\n",
    "type(u)"
   ]
  },
  {
   "cell_type": "code",
   "execution_count": 33,
   "metadata": {},
   "outputs": [
    {
     "data": {
      "text/plain": [
       "(31, 41, 89120)"
      ]
     },
     "execution_count": 33,
     "metadata": {},
     "output_type": "execute_result"
    }
   ],
   "source": [
    "u.shape"
   ]
  },
  {
   "cell_type": "code",
   "execution_count": 34,
   "metadata": {},
   "outputs": [],
   "source": [
    "u = u.reshape([31*41,89120])\n",
    "v = v.reshape([31*41,89120])"
   ]
  },
  {
   "cell_type": "code",
   "execution_count": 35,
   "metadata": {},
   "outputs": [
    {
     "data": {
      "text/plain": [
       "(1271, 89120)"
      ]
     },
     "execution_count": 35,
     "metadata": {},
     "output_type": "execute_result"
    }
   ],
   "source": [
    "u.shape"
   ]
  },
  {
   "cell_type": "code",
   "execution_count": 36,
   "metadata": {},
   "outputs": [],
   "source": [
    "Nt = 5000\n",
    "U = u[:,1:Nt] + v[:,1:Nt]*1j"
   ]
  },
  {
   "cell_type": "code",
   "execution_count": 37,
   "metadata": {},
   "outputs": [],
   "source": [
    "uu, ss, vvh = np.linalg.svd(U)"
   ]
  },
  {
   "cell_type": "code",
   "execution_count": 78,
   "metadata": {},
   "outputs": [
    {
     "data": {
      "text/plain": [
       "array([0.70054228, 0.07330707, 0.05361313])"
      ]
     },
     "execution_count": 78,
     "metadata": {},
     "output_type": "execute_result"
    },
    {
     "data": {
      "image/png": "[encoded data removed]",
      "text/plain": [
       "<Figure size 432x288 with 1 Axes>"
      ]
     },
     "metadata": {
      "needs_background": "light"
     },
     "output_type": "display_data"
    }
   ],
   "source": [
    "var = ss**2\n",
    "var = var/np.sum(var)\n",
    "plt.semilogy(var)\n",
    "plt.grid()\n",
    "plt.ylabel('Explained Variance [%]')\n",
    "plt.xlabel('Mode #')\n",
    "var[:3]"
   ]
  },
  {
   "cell_type": "code",
   "execution_count": 75,
   "metadata": {},
   "outputs": [],
   "source": [
    "# Plot the first few modes\n",
    "from matplotlib import cm\n",
    "myc = cm.get_cmap('Set1')\n",
    "\n",
    "mode = np.reshape(uu[:,1],[31,41])\n",
    "plt.quiver(lon,lat,-np.real(mode),-np.imag(mode),scale=1,color=myc(1))\n",
    "mode = np.reshape(uu[:,2],[31,41])\n",
    "plt.quiver(lon,lat,-np.real(mode),-np.imag(mode),scale=1,color=myc(2))\n",
    "mode = np.reshape(uu[:,3],[31,41])\n",
    "plt.quiver(lon,lat,-np.real(mode),-np.imag(mode),scale=1,color=myc(3))\n",
    "#mode = np.reshape(uu[:,4],[31,41])\n",
    "#plt.quiver(lon,lat,-np.real(mode),-np.imag(mode),scale=1,color='r')\n",
    "\n",
    "# Add to generate html on openstreetmap basemap\n",
    "mplleaflet.show(path='wind_eof_map.html')\n"
   ]
  }
 ],
 "metadata": {
  "kernelspec": {
   "display_name": "Python 3",
   "language": "python",
   "name": "python3"
  },
  "language_info": {
   "codemirror_mode": {
    "name": "ipython",
    "version": 3
   },
   "file_extension": ".py",
   "mimetype": "text/x-python",
   "name": "python",
   "nbconvert_exporter": "python",
   "pygments_lexer": "ipython3",
   "version": "3.8.3"
  }
 },
 "nbformat": 4,
 "nbformat_minor": 4
}
