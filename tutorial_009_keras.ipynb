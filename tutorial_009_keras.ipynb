{
 "cells": [
  {
   "cell_type": "code",
   "execution_count": 1,
   "id": "bf48dd95",
   "metadata": {},
   "outputs": [
    {
     "name": "stderr",
     "output_type": "stream",
     "text": [
      "C:\\Users\\crosby\\anaconda3\\envs\\tf\\lib\\site-packages\\tensorflow\\python\\framework\\dtypes.py:516: FutureWarning: Passing (type, 1) or '1type' as a synonym of type is deprecated; in a future version of numpy, it will be understood as (type, (1,)) / '(1,)type'.\n",
      "  _np_qint8 = np.dtype([(\"qint8\", np.int8, 1)])\n",
      "C:\\Users\\crosby\\anaconda3\\envs\\tf\\lib\\site-packages\\tensorflow\\python\\framework\\dtypes.py:517: FutureWarning: Passing (type, 1) or '1type' as a synonym of type is deprecated; in a future version of numpy, it will be understood as (type, (1,)) / '(1,)type'.\n",
      "  _np_quint8 = np.dtype([(\"quint8\", np.uint8, 1)])\n",
      "C:\\Users\\crosby\\anaconda3\\envs\\tf\\lib\\site-packages\\tensorflow\\python\\framework\\dtypes.py:518: FutureWarning: Passing (type, 1) or '1type' as a synonym of type is deprecated; in a future version of numpy, it will be understood as (type, (1,)) / '(1,)type'.\n",
      "  _np_qint16 = np.dtype([(\"qint16\", np.int16, 1)])\n",
      "C:\\Users\\crosby\\anaconda3\\envs\\tf\\lib\\site-packages\\tensorflow\\python\\framework\\dtypes.py:519: FutureWarning: Passing (type, 1) or '1type' as a synonym of type is deprecated; in a future version of numpy, it will be understood as (type, (1,)) / '(1,)type'.\n",
      "  _np_quint16 = np.dtype([(\"quint16\", np.uint16, 1)])\n",
      "C:\\Users\\crosby\\anaconda3\\envs\\tf\\lib\\site-packages\\tensorflow\\python\\framework\\dtypes.py:520: FutureWarning: Passing (type, 1) or '1type' as a synonym of type is deprecated; in a future version of numpy, it will be understood as (type, (1,)) / '(1,)type'.\n",
      "  _np_qint32 = np.dtype([(\"qint32\", np.int32, 1)])\n",
      "C:\\Users\\crosby\\anaconda3\\envs\\tf\\lib\\site-packages\\tensorflow\\python\\framework\\dtypes.py:525: FutureWarning: Passing (type, 1) or '1type' as a synonym of type is deprecated; in a future version of numpy, it will be understood as (type, (1,)) / '(1,)type'.\n",
      "  np_resource = np.dtype([(\"resource\", np.ubyte, 1)])\n",
      "C:\\Users\\crosby\\anaconda3\\envs\\tf\\lib\\site-packages\\tensorboard\\compat\\tensorflow_stub\\dtypes.py:541: FutureWarning: Passing (type, 1) or '1type' as a synonym of type is deprecated; in a future version of numpy, it will be understood as (type, (1,)) / '(1,)type'.\n",
      "  _np_qint8 = np.dtype([(\"qint8\", np.int8, 1)])\n",
      "C:\\Users\\crosby\\anaconda3\\envs\\tf\\lib\\site-packages\\tensorboard\\compat\\tensorflow_stub\\dtypes.py:542: FutureWarning: Passing (type, 1) or '1type' as a synonym of type is deprecated; in a future version of numpy, it will be understood as (type, (1,)) / '(1,)type'.\n",
      "  _np_quint8 = np.dtype([(\"quint8\", np.uint8, 1)])\n",
      "C:\\Users\\crosby\\anaconda3\\envs\\tf\\lib\\site-packages\\tensorboard\\compat\\tensorflow_stub\\dtypes.py:543: FutureWarning: Passing (type, 1) or '1type' as a synonym of type is deprecated; in a future version of numpy, it will be understood as (type, (1,)) / '(1,)type'.\n",
      "  _np_qint16 = np.dtype([(\"qint16\", np.int16, 1)])\n",
      "C:\\Users\\crosby\\anaconda3\\envs\\tf\\lib\\site-packages\\tensorboard\\compat\\tensorflow_stub\\dtypes.py:544: FutureWarning: Passing (type, 1) or '1type' as a synonym of type is deprecated; in a future version of numpy, it will be understood as (type, (1,)) / '(1,)type'.\n",
      "  _np_quint16 = np.dtype([(\"quint16\", np.uint16, 1)])\n",
      "C:\\Users\\crosby\\anaconda3\\envs\\tf\\lib\\site-packages\\tensorboard\\compat\\tensorflow_stub\\dtypes.py:545: FutureWarning: Passing (type, 1) or '1type' as a synonym of type is deprecated; in a future version of numpy, it will be understood as (type, (1,)) / '(1,)type'.\n",
      "  _np_qint32 = np.dtype([(\"qint32\", np.int32, 1)])\n",
      "C:\\Users\\crosby\\anaconda3\\envs\\tf\\lib\\site-packages\\tensorboard\\compat\\tensorflow_stub\\dtypes.py:550: FutureWarning: Passing (type, 1) or '1type' as a synonym of type is deprecated; in a future version of numpy, it will be understood as (type, (1,)) / '(1,)type'.\n",
      "  np_resource = np.dtype([(\"resource\", np.ubyte, 1)])\n"
     ]
    }
   ],
   "source": [
    "import tensorflow as tf\n",
    "from tensorflow import keras"
   ]
  },
  {
   "cell_type": "code",
   "execution_count": 2,
   "id": "67ba4ed7",
   "metadata": {},
   "outputs": [
    {
     "data": {
      "text/plain": [
       "'1.14.0'"
      ]
     },
     "execution_count": 2,
     "metadata": {},
     "output_type": "execute_result"
    }
   ],
   "source": [
    "tf.__version__"
   ]
  },
  {
   "cell_type": "code",
   "execution_count": 3,
   "id": "02a9ff0e",
   "metadata": {},
   "outputs": [
    {
     "data": {
      "text/plain": [
       "'2.2.4-tf'"
      ]
     },
     "execution_count": 3,
     "metadata": {},
     "output_type": "execute_result"
    }
   ],
   "source": [
    "keras.__version__"
   ]
  },
  {
   "cell_type": "code",
   "execution_count": 4,
   "id": "68f322b3",
   "metadata": {},
   "outputs": [],
   "source": [
    "fashion_mnist = keras.datasets.fashion_mnist\n",
    "(X_train_full, y_train_full), (X_test, y_test) = fashion_mnist.load_data()"
   ]
  },
  {
   "cell_type": "code",
   "execution_count": 5,
   "id": "f6621209",
   "metadata": {},
   "outputs": [
    {
     "data": {
      "text/plain": [
       "(60000, 28, 28)"
      ]
     },
     "execution_count": 5,
     "metadata": {},
     "output_type": "execute_result"
    }
   ],
   "source": [
    "X_train_full.shape"
   ]
  },
  {
   "cell_type": "code",
   "execution_count": 6,
   "id": "ccb91322",
   "metadata": {},
   "outputs": [
    {
     "data": {
      "text/plain": [
       "dtype('uint8')"
      ]
     },
     "execution_count": 6,
     "metadata": {},
     "output_type": "execute_result"
    }
   ],
   "source": [
    "X_train_full.dtype"
   ]
  },
  {
   "cell_type": "code",
   "execution_count": 7,
   "id": "a99c9e2e",
   "metadata": {},
   "outputs": [],
   "source": [
    "cut = 5000\n",
    "X_valid, X_train = X_train_full[:cut] / 255.0, X_train_full[cut:] / 255.0\n",
    "y_valid, y_train = y_train_full[:cut] / 255.0, y_train_full[cut:] / 255.0\n",
    "X_test = X_test / 255.0"
   ]
  },
  {
   "cell_type": "code",
   "execution_count": 8,
   "id": "692fab07",
   "metadata": {},
   "outputs": [],
   "source": [
    "class_names = ['tshirt','trouser','pullover','dress','coat','sandal', 'shirt', 'sneaker', 'bag', 'ankle boot']"
   ]
  },
  {
   "cell_type": "code",
   "execution_count": 9,
   "id": "57390d2f",
   "metadata": {},
   "outputs": [
    {
     "data": {
      "text/plain": [
       "array([9, 2, 1, 1, 6, 1, 4, 6, 5, 7, 4, 5, 7, 3, 4, 1, 2, 4, 8, 0, 2, 5,\n",
       "       7], dtype=uint8)"
      ]
     },
     "execution_count": 9,
     "metadata": {},
     "output_type": "execute_result"
    }
   ],
   "source": [
    "y_test[0:23]"
   ]
  },
  {
   "cell_type": "code",
   "execution_count": 10,
   "id": "6763bc87",
   "metadata": {},
   "outputs": [
    {
     "data": {
      "text/plain": [
       "array([0, 1, 2, 3, 4, 5, 6, 7, 8, 9], dtype=uint8)"
      ]
     },
     "execution_count": 10,
     "metadata": {},
     "output_type": "execute_result"
    }
   ],
   "source": [
    "import numpy as np\n",
    "np.unique(y_test)"
   ]
  },
  {
   "cell_type": "code",
   "execution_count": 11,
   "id": "224dc4e3",
   "metadata": {},
   "outputs": [
    {
     "name": "stdout",
     "output_type": "stream",
     "text": [
      "WARNING:tensorflow:From C:\\Users\\crosby\\anaconda3\\envs\\tf\\lib\\site-packages\\tensorflow\\python\\ops\\init_ops.py:1251: calling VarianceScaling.__init__ (from tensorflow.python.ops.init_ops) with dtype is deprecated and will be removed in a future version.\n",
      "Instructions for updating:\n",
      "Call initializer instance with the dtype argument instead of passing it to the constructor\n"
     ]
    }
   ],
   "source": [
    "model = keras.models.Sequential()\n",
    "model.add(keras.layers.Flatten(input_shape=[28,28]))\n",
    "model.add(keras.layers.Dense(300, activation='relu'))\n",
    "model.add(keras.layers.Dense(100, activation='relu'))\n",
    "model.add(keras.layers.Dense(10, activation='softmax'))\n"
   ]
  },
  {
   "cell_type": "code",
   "execution_count": 12,
   "id": "47b02da3",
   "metadata": {},
   "outputs": [
    {
     "name": "stdout",
     "output_type": "stream",
     "text": [
      "Model: \"sequential\"\n",
      "_________________________________________________________________\n",
      "Layer (type)                 Output Shape              Param #   \n",
      "=================================================================\n",
      "flatten (Flatten)            (None, 784)               0         \n",
      "_________________________________________________________________\n",
      "dense (Dense)                (None, 300)               235500    \n",
      "_________________________________________________________________\n",
      "dense_1 (Dense)              (None, 100)               30100     \n",
      "_________________________________________________________________\n",
      "dense_2 (Dense)              (None, 10)                1010      \n",
      "=================================================================\n",
      "Total params: 266,610\n",
      "Trainable params: 266,610\n",
      "Non-trainable params: 0\n",
      "_________________________________________________________________\n"
     ]
    }
   ],
   "source": [
    "model.summary()"
   ]
  },
  {
   "cell_type": "code",
   "execution_count": 13,
   "id": "33750197",
   "metadata": {},
   "outputs": [
    {
     "data": {
      "text/plain": [
       "[<tensorflow.python.keras.layers.core.Flatten at 0x221736556c8>,\n",
       " <tensorflow.python.keras.layers.core.Dense at 0x22173655708>,\n",
       " <tensorflow.python.keras.layers.core.Dense at 0x2217363cfc8>,\n",
       " <tensorflow.python.keras.layers.core.Dense at 0x22179355948>]"
      ]
     },
     "execution_count": 13,
     "metadata": {},
     "output_type": "execute_result"
    }
   ],
   "source": [
    "model.layers"
   ]
  },
  {
   "cell_type": "code",
   "execution_count": 14,
   "id": "4d44c357",
   "metadata": {},
   "outputs": [],
   "source": [
    "hidden1 = model.layers[1]\n",
    "weights, biases = hidden1.get_weights()"
   ]
  },
  {
   "cell_type": "code",
   "execution_count": 15,
   "id": "60382722",
   "metadata": {},
   "outputs": [
    {
     "data": {
      "text/plain": [
       "array([[ 0.06689757, -0.06694351, -0.01979383, ..., -0.02355596,\n",
       "        -0.02541561, -0.02112461],\n",
       "       [ 0.00651568, -0.06930082, -0.0575609 , ...,  0.02596465,\n",
       "         0.04924986,  0.04766873],\n",
       "       [-0.07007923,  0.03091371,  0.0676509 , ...,  0.05434181,\n",
       "         0.01029924,  0.06648009],\n",
       "       ...,\n",
       "       [ 0.04675065,  0.05279405,  0.0678681 , ..., -0.01577942,\n",
       "        -0.02309497,  0.00013415],\n",
       "       [ 0.0294578 , -0.03538989,  0.01409148, ..., -0.0338464 ,\n",
       "         0.04824161,  0.00495534],\n",
       "       [-0.01426075, -0.0689072 , -0.02160522, ..., -0.01242102,\n",
       "         0.04576185, -0.04631671]], dtype=float32)"
      ]
     },
     "execution_count": 15,
     "metadata": {},
     "output_type": "execute_result"
    }
   ],
   "source": [
    "weights"
   ]
  },
  {
   "cell_type": "code",
   "execution_count": 16,
   "id": "1ac755c1",
   "metadata": {},
   "outputs": [
    {
     "data": {
      "text/plain": [
       "array([0., 0., 0., 0., 0., 0., 0., 0., 0., 0., 0., 0., 0., 0., 0., 0., 0.,\n",
       "       0., 0., 0., 0., 0., 0., 0., 0., 0., 0., 0., 0., 0., 0., 0., 0., 0.,\n",
       "       0., 0., 0., 0., 0., 0., 0., 0., 0., 0., 0., 0., 0., 0., 0., 0., 0.,\n",
       "       0., 0., 0., 0., 0., 0., 0., 0., 0., 0., 0., 0., 0., 0., 0., 0., 0.,\n",
       "       0., 0., 0., 0., 0., 0., 0., 0., 0., 0., 0., 0., 0., 0., 0., 0., 0.,\n",
       "       0., 0., 0., 0., 0., 0., 0., 0., 0., 0., 0., 0., 0., 0., 0., 0., 0.,\n",
       "       0., 0., 0., 0., 0., 0., 0., 0., 0., 0., 0., 0., 0., 0., 0., 0., 0.,\n",
       "       0., 0., 0., 0., 0., 0., 0., 0., 0., 0., 0., 0., 0., 0., 0., 0., 0.,\n",
       "       0., 0., 0., 0., 0., 0., 0., 0., 0., 0., 0., 0., 0., 0., 0., 0., 0.,\n",
       "       0., 0., 0., 0., 0., 0., 0., 0., 0., 0., 0., 0., 0., 0., 0., 0., 0.,\n",
       "       0., 0., 0., 0., 0., 0., 0., 0., 0., 0., 0., 0., 0., 0., 0., 0., 0.,\n",
       "       0., 0., 0., 0., 0., 0., 0., 0., 0., 0., 0., 0., 0., 0., 0., 0., 0.,\n",
       "       0., 0., 0., 0., 0., 0., 0., 0., 0., 0., 0., 0., 0., 0., 0., 0., 0.,\n",
       "       0., 0., 0., 0., 0., 0., 0., 0., 0., 0., 0., 0., 0., 0., 0., 0., 0.,\n",
       "       0., 0., 0., 0., 0., 0., 0., 0., 0., 0., 0., 0., 0., 0., 0., 0., 0.,\n",
       "       0., 0., 0., 0., 0., 0., 0., 0., 0., 0., 0., 0., 0., 0., 0., 0., 0.,\n",
       "       0., 0., 0., 0., 0., 0., 0., 0., 0., 0., 0., 0., 0., 0., 0., 0., 0.,\n",
       "       0., 0., 0., 0., 0., 0., 0., 0., 0., 0., 0.], dtype=float32)"
      ]
     },
     "execution_count": 16,
     "metadata": {},
     "output_type": "execute_result"
    }
   ],
   "source": [
    "biases"
   ]
  },
  {
   "cell_type": "code",
   "execution_count": 17,
   "id": "f669a4c6",
   "metadata": {},
   "outputs": [
    {
     "name": "stdout",
     "output_type": "stream",
     "text": [
      "(784, 300) (300,)\n"
     ]
    }
   ],
   "source": [
    "print(weights.shape,biases.shape)"
   ]
  },
  {
   "cell_type": "code",
   "execution_count": 24,
   "id": "2a53767f",
   "metadata": {},
   "outputs": [],
   "source": [
    "model.compile(loss='sparse_categorical_crossentropy',\n",
    "             optimizer='sgd',\n",
    "             metrics=['sparse_categorical_accuracy'])"
   ]
  },
  {
   "cell_type": "code",
   "execution_count": 25,
   "id": "6546fc14",
   "metadata": {},
   "outputs": [
    {
     "name": "stdout",
     "output_type": "stream",
     "text": [
      "Train on 55000 samples, validate on 5000 samples\n",
      "Epoch 1/30\n",
      "55000/55000 [==============================] - 2s 37us/sample - loss: 1.4429e-05 - sparse_categorical_accuracy: 0.1008 - val_loss: 1.6216e-05 - val_sparse_categorical_accuracy: 0.0914\n",
      "Epoch 2/30\n",
      "55000/55000 [==============================] - 2s 34us/sample - loss: 1.4149e-05 - sparse_categorical_accuracy: 0.1008 - val_loss: 1.5910e-05 - val_sparse_categorical_accuracy: 0.0914\n",
      "Epoch 3/30\n",
      "55000/55000 [==============================] - 2s 34us/sample - loss: 1.3880e-05 - sparse_categorical_accuracy: 0.1008 - val_loss: 1.5615e-05 - val_sparse_categorical_accuracy: 0.0914\n",
      "Epoch 4/30\n",
      "55000/55000 [==============================] - 2s 34us/sample - loss: 1.3621e-05 - sparse_categorical_accuracy: 0.1008 - val_loss: 1.5331e-05 - val_sparse_categorical_accuracy: 0.0914\n",
      "Epoch 5/30\n",
      "55000/55000 [==============================] - 2s 35us/sample - loss: 1.3371e-05 - sparse_categorical_accuracy: 0.1008 - val_loss: 1.5056e-05 - val_sparse_categorical_accuracy: 0.0914\n",
      "Epoch 6/30\n",
      "55000/55000 [==============================] - 2s 35us/sample - loss: 1.3129e-05 - sparse_categorical_accuracy: 0.1008 - val_loss: 1.4791e-05 - val_sparse_categorical_accuracy: 0.0914\n",
      "Epoch 7/30\n",
      "55000/55000 [==============================] - 2s 34us/sample - loss: 1.2896e-05 - sparse_categorical_accuracy: 0.1008 - val_loss: 1.4534e-05 - val_sparse_categorical_accuracy: 0.0914\n",
      "Epoch 8/30\n",
      "55000/55000 [==============================] - 2s 35us/sample - loss: 1.2671e-05 - sparse_categorical_accuracy: 0.1008 - val_loss: 1.4287e-05 - val_sparse_categorical_accuracy: 0.0914\n",
      "Epoch 9/30\n",
      "55000/55000 [==============================] - 2s 35us/sample - loss: 1.2454e-05 - sparse_categorical_accuracy: 0.1008 - val_loss: 1.4047e-05 - val_sparse_categorical_accuracy: 0.0914\n",
      "Epoch 10/30\n",
      "55000/55000 [==============================] - 2s 35us/sample - loss: 1.2244e-05 - sparse_categorical_accuracy: 0.1008 - val_loss: 1.3815e-05 - val_sparse_categorical_accuracy: 0.0914\n",
      "Epoch 11/30\n",
      "55000/55000 [==============================] - 2s 34us/sample - loss: 1.2040e-05 - sparse_categorical_accuracy: 0.1008 - val_loss: 1.3591e-05 - val_sparse_categorical_accuracy: 0.0914\n",
      "Epoch 12/30\n",
      "55000/55000 [==============================] - 2s 35us/sample - loss: 1.1843e-05 - sparse_categorical_accuracy: 0.1008 - val_loss: 1.3374e-05 - val_sparse_categorical_accuracy: 0.0914\n",
      "Epoch 13/30\n",
      "55000/55000 [==============================] - 2s 35us/sample - loss: 1.1652e-05 - sparse_categorical_accuracy: 0.1008 - val_loss: 1.3163e-05 - val_sparse_categorical_accuracy: 0.0914\n",
      "Epoch 14/30\n",
      "55000/55000 [==============================] - 2s 34us/sample - loss: 1.1467e-05 - sparse_categorical_accuracy: 0.1008 - val_loss: 1.2958e-05 - val_sparse_categorical_accuracy: 0.0914\n",
      "Epoch 15/30\n",
      "55000/55000 [==============================] - 2s 35us/sample - loss: 1.1288e-05 - sparse_categorical_accuracy: 0.1008 - val_loss: 1.2760e-05 - val_sparse_categorical_accuracy: 0.0914\n",
      "Epoch 16/30\n",
      "55000/55000 [==============================] - 2s 34us/sample - loss: 1.1114e-05 - sparse_categorical_accuracy: 0.1008 - val_loss: 1.2567e-05 - val_sparse_categorical_accuracy: 0.0914\n",
      "Epoch 17/30\n",
      "55000/55000 [==============================] - 2s 34us/sample - loss: 1.0945e-05 - sparse_categorical_accuracy: 0.1008 - val_loss: 1.2381e-05 - val_sparse_categorical_accuracy: 0.0914\n",
      "Epoch 18/30\n",
      "55000/55000 [==============================] - 2s 35us/sample - loss: 1.0782e-05 - sparse_categorical_accuracy: 0.1008 - val_loss: 1.2199e-05 - val_sparse_categorical_accuracy: 0.0914\n",
      "Epoch 19/30\n",
      "55000/55000 [==============================] - 2s 35us/sample - loss: 1.0623e-05 - sparse_categorical_accuracy: 0.1008 - val_loss: 1.2022e-05 - val_sparse_categorical_accuracy: 0.0914\n",
      "Epoch 20/30\n",
      "55000/55000 [==============================] - 2s 35us/sample - loss: 1.0468e-05 - sparse_categorical_accuracy: 0.1008 - val_loss: 1.1851e-05 - val_sparse_categorical_accuracy: 0.0914\n",
      "Epoch 21/30\n",
      "55000/55000 [==============================] - 2s 34us/sample - loss: 1.0318e-05 - sparse_categorical_accuracy: 0.1008 - val_loss: 1.1684e-05 - val_sparse_categorical_accuracy: 0.0914\n",
      "Epoch 22/30\n",
      "55000/55000 [==============================] - 2s 34us/sample - loss: 1.0172e-05 - sparse_categorical_accuracy: 0.1008 - val_loss: 1.1522e-05 - val_sparse_categorical_accuracy: 0.0914\n",
      "Epoch 23/30\n",
      "55000/55000 [==============================] - 2s 34us/sample - loss: 1.0030e-05 - sparse_categorical_accuracy: 0.1008 - val_loss: 1.1364e-05 - val_sparse_categorical_accuracy: 0.0914\n",
      "Epoch 24/30\n",
      "55000/55000 [==============================] - 2s 35us/sample - loss: 9.8920e-06 - sparse_categorical_accuracy: 0.1008 - val_loss: 1.1209e-05 - val_sparse_categorical_accuracy: 0.0914\n",
      "Epoch 25/30\n",
      "55000/55000 [==============================] - 2s 35us/sample - loss: 9.7575e-06 - sparse_categorical_accuracy: 0.1008 - val_loss: 1.1060e-05 - val_sparse_categorical_accuracy: 0.0914\n",
      "Epoch 26/30\n",
      "55000/55000 [==============================] - 2s 34us/sample - loss: 9.6266e-06 - sparse_categorical_accuracy: 0.1008 - val_loss: 1.0914e-05 - val_sparse_categorical_accuracy: 0.0914\n",
      "Epoch 27/30\n",
      "55000/55000 [==============================] - 2s 34us/sample - loss: 9.4991e-06 - sparse_categorical_accuracy: 0.1008 - val_loss: 1.0771e-05 - val_sparse_categorical_accuracy: 0.0914\n",
      "Epoch 28/30\n",
      "55000/55000 [==============================] - 2s 34us/sample - loss: 9.3748e-06 - sparse_categorical_accuracy: 0.1008 - val_loss: 1.0633e-05 - val_sparse_categorical_accuracy: 0.0914\n",
      "Epoch 29/30\n",
      "55000/55000 [==============================] - 2s 35us/sample - loss: 9.2536e-06 - sparse_categorical_accuracy: 0.1008 - val_loss: 1.0498e-05 - val_sparse_categorical_accuracy: 0.0914\n",
      "Epoch 30/30\n",
      "55000/55000 [==============================] - 2s 35us/sample - loss: 9.1358e-06 - sparse_categorical_accuracy: 0.1008 - val_loss: 1.0367e-05 - val_sparse_categorical_accuracy: 0.0914\n"
     ]
    }
   ],
   "source": [
    "history = model.fit(X_train, y_train, epochs=30, validation_data=(X_valid, y_valid))"
   ]
  },
  {
   "cell_type": "code",
   "execution_count": 21,
   "id": "b14d6ebf",
   "metadata": {},
   "outputs": [],
   "source": [
    "import matplotlib.pyplot as plt\n",
    "import pandas as pd\n",
    "df = pd.DataFrame(history.history)"
   ]
  },
  {
   "cell_type": "code",
   "execution_count": 22,
   "id": "43b9f1a2",
   "metadata": {},
   "outputs": [
    {
     "data": {
      "text/plain": [
       "<AxesSubplot:>"
      ]
     },
     "execution_count": 22,
     "metadata": {},
     "output_type": "execute_result"
    },
    {
     "data": {
      "image/png": "[encoded data removed]",
      "text/plain": [
       "<Figure size 432x288 with 1 Axes>"
      ]
     },
     "metadata": {
      "needs_background": "light"
     },
     "output_type": "display_data"
    }
   ],
   "source": [
    "df.plot()"
   ]
  },
  {
   "cell_type": "code",
   "execution_count": null,
   "id": "44918b71",
   "metadata": {},
   "outputs": [],
   "source": []
  }
 ],
 "metadata": {
  "kernelspec": {
   "display_name": "Python 3 (ipykernel)",
   "language": "python",
   "name": "python3"
  },
  "language_info": {
   "codemirror_mode": {
    "name": "ipython",
    "version": 3
   },
   "file_extension": ".py",
   "mimetype": "text/x-python",
   "name": "python",
   "nbconvert_exporter": "python",
   "pygments_lexer": "ipython3",
   "version": "3.7.12"
  }
 },
 "nbformat": 4,
 "nbformat_minor": 5
}
